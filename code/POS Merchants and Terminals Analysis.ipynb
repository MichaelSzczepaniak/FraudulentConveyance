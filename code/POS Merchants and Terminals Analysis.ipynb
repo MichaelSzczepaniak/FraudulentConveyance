{
 "cells": [
  {
   "cell_type": "markdown",
   "metadata": {},
   "source": [
    "# Forensic POS Data Analysis"
   ]
  },
  {
   "cell_type": "markdown",
   "metadata": {},
   "source": [
    "$\\newcommand{\\xv}{\\mathbf{x}}\n",
    "\\newcommand{\\Xv}{\\mathbf{X}}\n",
    "\\newcommand{\\yv}{\\mathbf{y}}\n",
    "\\newcommand{\\zv}{\\mathbf{z}}\n",
    "\\newcommand{\\av}{\\mathbf{a}}\n",
    "\\newcommand{\\Wv}{\\mathbf{W}}\n",
    "\\newcommand{\\wv}{\\mathbf{w}}\n",
    "\\newcommand{\\tv}{\\mathbf{t}}\n",
    "\\newcommand{\\Tv}{\\mathbf{T}}\n",
    "\\newcommand{\\muv}{\\boldsymbol{\\mu}}\n",
    "\\newcommand{\\sigmav}{\\boldsymbol{\\sigma}}\n",
    "\\newcommand{\\phiv}{\\boldsymbol{\\phi}}\n",
    "\\newcommand{\\Phiv}{\\boldsymbol{\\Phi}}\n",
    "\\newcommand{\\Sigmav}{\\boldsymbol{\\Sigma}}\n",
    "\\newcommand{\\Lambdav}{\\boldsymbol{\\Lambda}}\n",
    "\\newcommand{\\half}{\\frac{1}{2}}\n",
    "\\newcommand{\\argmax}[1]{\\underset{#1}{\\operatorname{argmax}}}\n",
    "\\newcommand{\\argmin}[1]{\\underset{#1}{\\operatorname{argmin}}}$"
   ]
  },
  {
   "cell_type": "markdown",
   "metadata": {},
   "source": [
    "### Backgound & Objective\n",
    "In the summer of 2006, a Canadian company claimed that it went out of buisness.  Over a two year period prior to this claim, a group of Americans had been investing in this company.  The Canadian company sold and serviced point-of-sales (POS) equipment such as credit and debit card processing machines to small and medium sized merchants throughout Canada.  The information the Americans collected as a part of their due diligence suggested that the company they had invested in had substantial assets and cashflow, but that the president of the company was attempting to avoid paying back the investors in spite of having the means to do so.\n",
    "\n",
    "In 2007, the Americans obtained a [judgment against the company [1]](https://github.com/MichaelSzczepaniak/FraudulentConveyance/blob/master/Judgment%20%28redacted%29.pdf) and conducted a [judgment debtor examination (JDE)[2]](https://www.attorneygeneral.jus.gov.on.ca/english/courts/guides/After_Judgement_Guide_to_Getting_Results_EN.html#_Toc436642217) with the president.  One of the undertakings from the JDE was for the president of the company to provide data showing the monthly account activity for all the merchants and terminals the company had in its portfolio over a given time period.\n",
    "\n",
    "The purpose of this analysis was to investigate the likelihood that [fraudulant conveyance [3]](https://en.wikipedia.org/wiki/Fraudulent_conveyance) had occurred.  This was originally done in Java.  The data being analyzed in this notebook was taken from the actual legal action that spanned from 2007 through 2013 utilizing a port of the original Java code over to Python.\n",
    "\n",
    "### Data\n",
    "The data was originally provided as a collection of Microsoft Word files which were converted to and saved as straight ASCII text files to simplify the analysis.  Each of these data files can be found [here [4]](https://github.com/MichaelSzczepaniak/FraudulentConveyance/raw/master/data/rawOsMerchantReportsTxt/raw_monthly_merchant_datat.zip).  This is a zip archive of the raw data files from which the [preprocessing [5]](https://www.techopedia.com/definition/14650/data-preprocessing) and subsequent analysis was conducted.\n",
    "\n",
    "### Preprocessing\n",
    "As with most data analysis projects, much of the work involved preprocessing the data to get it into a usable form.  The first step was to see what this data looked like.  Start by looking at the first few lines of the first data file."
   ]
  },
  {
   "cell_type": "code",
   "execution_count": 1,
   "metadata": {
    "collapsed": false
   },
   "outputs": [
    {
     "data": {
      "text/plain": [
       "'\\tTo:\\tNCE NEW CANASIAN ENT INC\\tContact: CHRIS GREEN, Phone: 613-722-7797, Fax:   \\n\\tHARVEST LOAF, 1323'"
      ]
     },
     "execution_count": 1,
     "metadata": {},
     "output_type": "execute_result"
    }
   ],
   "source": [
    "import urllib.request\n",
    "data_url = \"https://raw.githubusercontent.com/MichaelSzczepaniak/FraudulentConveyance/master/data/rawOsMerchantReportsTxt/07P_401.txt\"\n",
    "\n",
    "with urllib.request.urlopen(data_url) as response:\n",
    "   data = str(response.read(),'utf-8')\n",
    "\n",
    "data[:100]"
   ]
  },
  {
   "cell_type": "markdown",
   "metadata": {},
   "source": [
    "The response from the *urlopen* request is just a big bucket of bytes which is converted to a big string with no line breaks.  So to make this data easier to work with, we'll split this string into an array of strings."
   ]
  },
  {
   "cell_type": "code",
   "execution_count": 2,
   "metadata": {
    "collapsed": false
   },
   "outputs": [
    {
     "name": "stdout",
     "output_type": "stream",
     "text": [
      "\tTo:\tNCE NEW CANASIAN ENT INC\tContact: CHRIS GREEN, Phone: 613-722-7797, Fax:   \n",
      "\tHARVEST LOAF, 1323 WELLINGTON\n",
      "\tOTTAWA, ON,  K1Y 3B6\tTime Zone:  Eastern Time \n",
      "\tMerchant: 07P282          Site:   07P28201\n",
      "\n",
      "\tTerminal: 07P10008\n",
      "\n",
      "\tMONTHLY SETTLEMENT\n",
      "\n",
      "\tDate\tBatch #\tComplete #\tIncomplete #\tApproved\n",
      "\tUser Fee\tPurchase \n",
      "\tHaulage Fee\tHaulage Fee\tMerchant\n",
      "\n",
      "\tTransaction \n",
      "\tCollected Daily\tSettlement\n",
      "\n",
      "\t01/02\t1\t4\t0\t33.91\t1.00\t32.91\t0.70\t0.00\t32.91\n",
      "\t01/03\t1\t6\t0\t30.88\t1.50\t29.38\t1.05\t0.00\t29.38\n",
      "...\n",
      "\n",
      "\tTo:\tDAVIS J CATT\tContact: DAVID OR VICKY, Phone: 705-734-0755, Fax:   \n",
      "\tANNSDALE SMALL ENGINES, 181 BROCK ST\n",
      "\tBARRIE, ON,  L4N 2M3\tTime Zone:  Eastern Time \n",
      "\tMerchant: 07P257          Site:   07P25701\n",
      "\n",
      "\tTerminal: 07P10200\n",
      "\n",
      "\tMONTHLY SETTLEMENT\n",
      "\n",
      "\tDate\tBatch #\tComplete #\tIncomplete #\tApproved\n",
      "\tUser Fee\tPurchase \n",
      "\tHaulage Fee\tHaulage Fee\tMerchant\n",
      "\n",
      "\tTransaction \n",
      "\tCollected Daily\tSettlement\n",
      "\n",
      "\t01/06\t1\t1\t0\t118.65\t0.25\t118.40\t0.18\t0.00\t118.40\n",
      "\t01/07\t1\t1\t0\t46.20\t0.25\t45.95\t0.18\t0.00\t45.95\n",
      "...\n"
     ]
    }
   ],
   "source": [
    "report_as_lines = data.split(\"\\n\")\n",
    "print(\"\\n\".join(report_as_lines[:18]))\n",
    "print(\"...\")\n",
    "print(\"\\n\".join(report_as_lines[48:67]))\n",
    "print(\"...\")"
   ]
  },
  {
   "cell_type": "markdown",
   "metadata": {},
   "source": [
    "Now this is starting to look more understandable.  From here, we need to break out the sections assigned to each merchant.  I call the sections representing each merchant **raw merchant records** and use the following function to parse these out."
   ]
  },
  {
   "cell_type": "code",
   "execution_count": 3,
   "metadata": {
    "collapsed": false
   },
   "outputs": [
    {
     "name": "stdout",
     "output_type": "stream",
     "text": [
      "To:\tNCE NEW CANASIAN ENT INC\tContact: CHRIS GREEN, Phone: 613-722-7797, Fax:\n",
      "HARVEST LOAF, 1323 WELLINGTON\n",
      "OTTAWA, ON,  K1Y 3B6\tTime Zone:  Eastern Time\n",
      "Merchant: 07P282          Site:   07P28201\n",
      "Terminal: 07P10008\n",
      "MONTHLY SETTLEMENT\n",
      "Date\tBatch #\tComplete #\tIncomplete #\tApproved\n",
      "User Fee\tPurchase\n",
      "Haulage Fee\tHaulage Fee\tMerchant\n",
      "Transaction\n",
      "Collected Daily\tSettlement\n",
      "01/02\t1\t4\t0\t33.91\t1.00\t32.91\t0.70\t0.00\t32.91\n",
      "01/03\t1\t6\t0\t30.88\t1.50\t29.38\t1.05\t0.00\t29.38\n",
      "01/04\t1\t7\t0\t70.41\t1.75\t68.66\t1.23\t0.00\t68.66\n",
      "01/05\t1\t2\t0\t15.51\t0.50\t15.01\t0.35\t0.00\t15.01\n",
      "01/06\t1\t3\t0\t36.48\t0.75\t35.73\t0.53\t0.00\t35.73\n",
      "01/07\t1\t2\t0\t17.80\t0.50\t17.30\t0.35\t0.00\t17.30\n",
      "01/08\t1\t1\t0\t4.98\t0.25\t4.73\t0.18\t0.00\t4.73\n",
      "01/09\t1\t4\t1\t61.38\t1.00\t60.38\t0.75\t0.00\t60.38\n",
      "01/10\t1\t8\t3\t103.97\t2.00\t101.97\t1.55\t0.00\t101.97\n",
      "01/11\t1\t3\t0\t24.64\t0.75\t23.89\t0.53\t0.00\t23.89\n",
      "01/12\t1\t2\t0\t6.75\t0.50\t6.25\t0.35\t0.00\t6.25\n",
      "01/13\t1\t2\t0\t11.15\t0.50\t10.65\t0.35\t0.00\t10.65\n",
      "01/14\t1\t4\t0\t53.52\t1.00\t52.52\t0.70\t0.00\t52.52\n",
      "01/15\t1\t3\t0\t33.20\t0.75\t32.45\t0.53\t0.00\t32.45\n",
      "01/17\t1\t7\t0\t60.41\t1.75\t58.66\t1.23\t0.00\t58.66\n",
      "01/18\t1\t3\t0\t82.50\t0.75\t81.75\t0.53\t0.00\t81.75\n",
      "01/19\t1\t3\t0\t18.40\t0.75\t17.65\t0.53\t0.00\t17.65\n",
      "01/21\t1\t2\t0\t14.87\t0.50\t14.37\t0.35\t0.00\t14.37\n",
      "01/22\t1\t5\t0\t47.29\t1.25\t46.04\t0.88\t0.00\t46.04\n",
      "01/23\t1\t3\t0\t31.11\t0.75\t30.36\t0.53\t0.00\t30.36\n",
      "01/24\t1\t9\t1\t195.20\t2.25\t192.95\t1.63\t0.00\t192.95\n",
      "01/25\t1\t6\t1\t70.92\t1.50\t69.42\t1.10\t0.00\t69.42\n",
      "01/26\t1\t1\t0\t15.10\t0.25\t14.85\t0.18\t0.00\t14.85\n",
      "01/27\t1\t4\t0\t20.44\t1.00\t19.44\t0.70\t0.00\t19.44\n",
      "01/28\t1\t1\t0\t9.85\t0.25\t9.60\t0.18\t0.00\t9.60\n",
      "01/29\t1\t1\t0\t16.41\t0.25\t16.16\t0.18\t0.00\t16.16\n",
      "01/30\t1\t2\t0\t22.29\t0.50\t21.79\t0.35\t0.00\t21.79\n",
      "01/31\t1\t10\t0\t85.95\t2.50\t83.45\t1.75\t0.00\t83.45\n",
      "28\t108\t6\t1,195.32\t27.00\t1,168.32\t19.20\t0.00\t1,168.32\n",
      "--------------------------------------------------------------------\n",
      "To:\tDAVIS J CATT\tContact: DAVID OR VICKY, Phone: 705-734-0755, Fax:\n",
      "ANNSDALE SMALL ENGINES, 181 BROCK ST\n",
      "BARRIE, ON,  L4N 2M3\tTime Zone:  Eastern Time\n",
      "Merchant: 07P257          Site:   07P25701\n",
      "Terminal: 07P10200\n",
      "MONTHLY SETTLEMENT\n",
      "Date\tBatch #\tComplete #\tIncomplete #\tApproved\n",
      "User Fee\tPurchase\n",
      "Haulage Fee\tHaulage Fee\tMerchant\n",
      "Transaction\n",
      "Collected Daily\tSettlement\n",
      "01/06\t1\t1\t0\t118.65\t0.25\t118.40\t0.18\t0.00\t118.40\n",
      "01/07\t1\t1\t0\t46.20\t0.25\t45.95\t0.18\t0.00\t45.95\n",
      "01/08\t1\t1\t0\t27.56\t0.25\t27.31\t0.18\t0.00\t27.31\n",
      "01/09\t1\t2\t0\t142.88\t0.50\t142.38\t0.35\t0.00\t142.38\n",
      "01/10\t1\t1\t0\t309.14\t0.25\t308.89\t0.18\t0.00\t308.89\n",
      "01/13\t1\t1\t0\t89.03\t0.25\t88.78\t0.18\t0.00\t88.78\n",
      "01/17\t1\t3\t0\t668.16\t0.75\t667.41\t0.53\t0.00\t667.41\n",
      "01/19\t1\t1\t0\t9.45\t0.25\t9.20\t0.18\t0.00\t9.20\n",
      "01/22\t1\t2\t0\t230.21\t0.50\t229.71\t0.35\t0.00\t229.71\n",
      "01/23\t1\t2\t0\t109.46\t0.50\t108.96\t0.35\t0.00\t108.96\n",
      "01/27\t1\t2\t0\t128.03\t0.50\t127.53\t0.35\t0.00\t127.53\n",
      "01/28\t1\t3\t0\t89.01\t0.75\t88.26\t0.53\t0.00\t88.26\n",
      "01/29\t1\t1\t0\t144.46\t0.25\t144.21\t0.18\t0.00\t144.21\n",
      "01/30\t1\t6\t0\t1,506.55\t1.50\t1,505.05\t1.05\t0.00\t1,505.05\n",
      "01/31\t1\t3\t0\t248.69\t0.75\t247.94\t0.53\t0.00\t247.94\n",
      "15\t30\t0\t3,867.48\t7.50\t3,859.98\t5.25\t0.00\t3,859.98\n",
      "--------------------------------------------------------------------\n",
      "...\n"
     ]
    }
   ],
   "source": [
    "# Initialize some constants\n",
    "toToken = \"To\"\n",
    "contactToken = \"Contact:\"\n",
    "phoneToken = \"Phone:\"\n",
    "faxToken = \"Fax:\"\n",
    "timeZoneToken = \"Time Zone:\"\n",
    "merchantToken = \"Merchant:\"\n",
    "siteToken = \"Site:\"\n",
    "terminalToken = \"Terminal:\"\n",
    "dateToken = \"Date\"\n",
    "\n",
    "def getRawMerchantRecords(lines):\n",
    "    \"\"\" Parses a list of strings into another list of strings where each\n",
    "    inner list are lines related to individual merchants.\n",
    "    \n",
    "    lines - list of strings containing information on a set of merchants\n",
    "            for a given month\n",
    "    \n",
    "    Precondition: It's assumed that each merchant record starts with a line:\n",
    "    To: <merchant name>\n",
    "    and ends with 3 consecutive blank lines.\n",
    "    \n",
    "    \"\"\"\n",
    "    raw_records = []\n",
    "    record = []\n",
    "    build_record = False\n",
    "    blank_lines = 0\n",
    "    #print(\"getRawMerchantRecords: number of lines = \", len(lines))\n",
    "    for i in range(len(lines)):\n",
    "        line = lines[i].strip()  # Remove leading white space\n",
    "        if line.startswith(toToken):\n",
    "            build_record = True\n",
    "            record = [line, ]    # Add first line of new record\n",
    "        elif len(line.strip()) < 1:      # At a blank line?\n",
    "            blank_lines += 1\n",
    "            # Last line of current record?\n",
    "            if blank_lines >= 3:\n",
    "                if build_record:\n",
    "                    raw_records.append(record[:])\n",
    "                    build_record = False\n",
    "                    blank_lines = 0\n",
    "        elif build_record:\n",
    "            record.append(line)\n",
    "            blank_lines = 0\n",
    "            \n",
    "    return raw_records\n",
    "\n",
    "raw_merchants = getRawMerchantRecords(report_as_lines)\n",
    "# Test to see that we have data for a single merchant in each element.\n",
    "print(\"\\n\".join(raw_merchants[0]))\n",
    "print(\"--------------------------------------------------------------------\")\n",
    "print(\"\\n\".join(raw_merchants[1]))\n",
    "print(\"--------------------------------------------------------------------\")\n",
    "print(\"...\")"
   ]
  },
  {
   "cell_type": "markdown",
   "metadata": {},
   "source": [
    "This looks better with each merchants information for the month broken out, but this is still tough to work with.  It would be great to parse this into some kind of object and persist those objects in a database so that they can be easily retrieved later.  When I did a lot of Java, we'd call these objects \"beans\".  Each of these objects will hold all the relevant information about a merchant for a given month with methods to access each piece of the data. With this in mind, the following simple class was written."
   ]
  },
  {
   "cell_type": "code",
   "execution_count": 4,
   "metadata": {
    "collapsed": true
   },
   "outputs": [],
   "source": [
    "class OsMerchantReportRecord:\n",
    "    def __init__(self, os_report_dict, os_merchant_dict):\n",
    "        ## info extracted from file name\n",
    "        self._isoNum = os_report_dict['isoNum']\n",
    "        self._reportYear = os_report_dict['reportYear']\n",
    "        self._reportMonth = os_report_dict['reportMonth']\n",
    "        ## info extracted from reports\n",
    "        self._busName = os_merchant_dict['busName']\n",
    "        self._corpName = os_merchant_dict['corpName']\n",
    "        self._contact = os_merchant_dict['contact']\n",
    "        self._phone = os_merchant_dict['phone']\n",
    "        self._address = os_merchant_dict['address']\n",
    "        self._city = os_merchant_dict['city']\n",
    "        self._province = os_merchant_dict['province']\n",
    "        self._postalCode = os_merchant_dict['postalCode']\n",
    "        self._timeZone = os_merchant_dict['timeZone']\n",
    "        self._merchantId = os_merchant_dict['merchantId']\n",
    "        self._siteId = os_merchant_dict['siteId']\n",
    "        self._terminalId = os_merchant_dict['terminalId']\n",
    "        \n",
    "    #### All we need are getters because all instance variables\n",
    "    #### should never change after instantiation.\n",
    "    def getIsoNum(self):\n",
    "        return self._isoNum\n",
    "        \n",
    "    def getMonth(self):\n",
    "        return self._reportMonth\n",
    "        \n",
    "    def getYear(self):\n",
    "        return self._reportYear\n",
    "        \n",
    "    def getBusName(self):\n",
    "        return self._busName\n",
    "        \n",
    "    def getCorpName(self):\n",
    "        return self._corpName\n",
    "        \n",
    "    def getContact(self):\n",
    "        return self._contact\n",
    "        \n",
    "    def getPhone(self):\n",
    "        return self._phone\n",
    "    \n",
    "    def getAddress(self):\n",
    "        return self._address\n",
    "        \n",
    "    def getCity(self):\n",
    "        return self._city\n",
    "        \n",
    "    def getProvince(self):\n",
    "        return self._province\n",
    "        \n",
    "    def getPostalCode(self):\n",
    "        return self._postalCode\n",
    "        \n",
    "    def getTimeZone(self):\n",
    "        return self._timeZone\n",
    "        \n",
    "    def getMerchantId(self):\n",
    "        return self._merchantId\n",
    "        \n",
    "    def getSiteId(self):\n",
    "        return self._siteId\n",
    "        \n",
    "    def getTerminalId(self):\n",
    "        return self._terminalId\n",
    "    \n",
    "    def asTuple(self):\n",
    "        \"\"\" Returns the representation of an instance as a tuple.\n",
    "        Intended to be used to make database persistence easy.\n",
    "        \"\"\"\n",
    "        osm_tuple = (self._busName, self._corpName, self._contact,\n",
    "                     self._phone, self._address, self._city,\n",
    "                     self._province, self._postalCode, self._timeZone,\n",
    "                     self._merchantId, self._siteId, self._terminalId,\n",
    "                     self._isoNum, self._reportYear, self._reportMonth)\n",
    "                       \n",
    "        return osm_tuple\n",
    "    \n",
    "    def toString(self):\n",
    "        osm_fields = []\n",
    "        for item in self.asTuple():\n",
    "            osm_fields.append(str(item))\n",
    "        \n",
    "        return \",\".join(osm_fields)"
   ]
  },
  {
   "cell_type": "markdown",
   "metadata": {
    "collapsed": true
   },
   "source": [
    "The next step was to convert the **rawMerchantRecords** into **OsMerchantReportRecord** objects.  To get this done, we need to parse out the data for each field and then collect this data into a dictionary to pass to the **osMerchantReportRecord** constructor.  The following functions were used for this task."
   ]
  },
  {
   "cell_type": "code",
   "execution_count": 5,
   "metadata": {
    "collapsed": true
   },
   "outputs": [],
   "source": [
    "def parseBusinessName(raw_osm):\n",
    "    \"\"\" Returns the business name of raw OS merchant. The business name is\n",
    "    listed at the start of the 2nd line just below the \"To\" field.\n",
    "    \n",
    "    raw_osm - raw os merchant record\n",
    "    \"\"\"\n",
    "    return raw_osm[1].split(',')[0].strip()\n",
    "    \n",
    "def parseCorporateName(raw_osm):\n",
    "    \"\"\" Returns the corporate name of raw OS merchant. The corporate name is\n",
    "    listed immediately following the \"To:\" token in first line of raw_osm.\n",
    "    \n",
    "    raw_osm - raw os merchant record\n",
    "    \"\"\"\n",
    "    return raw_osm[0].split(\"\\t\")[1].strip()\n",
    "    \n",
    "def parseContact(raw_osm):\n",
    "    \"\"\" Returns the contact field of raw OS merchant. The conctact is\n",
    "    the field following the \"Contact:\" token in first line of raw_osm.\n",
    "    \n",
    "    raw_osm - raw os merchant record\n",
    "    \"\"\"\n",
    "    contact_part = raw_osm[0].split(contactToken)[1]\n",
    "    return contact_part.split(\",\")[0].strip()\n",
    "    \n",
    "def parsePhone(raw_osm):\n",
    "    \"\"\" Returns the phone field of raw OS merchant. The phone # is\n",
    "    the field following the \"Phone:\" token in first line of raw_osm.\n",
    "    \n",
    "    raw_osm - raw os merchant record\n",
    "    \"\"\"\n",
    "    phone_part = raw_osm[0].split(phoneToken)\n",
    "    if(len(phone_part) > 1):\n",
    "        phone_part = phone_part[1].split(\",\")[0].strip()\n",
    "    else: \n",
    "        phone_part = \"\"\n",
    "        \n",
    "    return phone_part.strip()\n",
    "    \n",
    "def parseAddress(raw_osm):\n",
    "    \"\"\" Returns the address field of raw OS merchant. The address is\n",
    "    the field following the business name field in 2nd line of raw_osm.\n",
    "    \n",
    "    raw_osm - raw os merchant record\n",
    "    \"\"\"\n",
    "    address_part = raw_osm[1].split(\",\")[1]\n",
    "    \n",
    "    return address_part.strip()\n",
    "    \n",
    "def parseCity(raw_osm):\n",
    "    \"\"\" Returns the city field of raw OS merchant. The city is\n",
    "    the field following the 1st field in 3rd line of raw_osm.\n",
    "    \n",
    "    raw_osm - raw os merchant record\n",
    "    \"\"\"\n",
    "    city_part = raw_osm[2].split(\",\")[0].strip()\n",
    "    \n",
    "    return city_part\n",
    "    \n",
    "def parseProvince(raw_osm):\n",
    "    \"\"\" Returns the province field of raw OS merchant. The province\n",
    "    is the field following the city field in 3rd line of raw_osm.\n",
    "    \n",
    "    raw_osm - raw os merchant record\n",
    "    \"\"\"\n",
    "    prov_part = raw_osm[2].split(\",\")[1].strip()\n",
    "    \n",
    "    return prov_part\n",
    "    \n",
    "def parsePostalCode(raw_osm):\n",
    "    \"\"\" Returns the postal code field of raw OS merchant. The postal code\n",
    "    is the field following the province field in 3rd line of raw_osm.\n",
    "    \n",
    "    raw_osm - raw os merchant record\n",
    "    \"\"\"\n",
    "    postal_part = raw_osm[2].split(\",\")[2].strip()  # has postal code and TZ\n",
    "    postal_part = postal_part[:7]\n",
    "    \n",
    "    return postal_part\n",
    "    \n",
    "def parseTimeZone(raw_osm):\n",
    "    \"\"\" Returns the Time Zone field of raw OS merchant. The Time Zone\n",
    "    is the field following the postal code field in 3rd line of raw_osm.\n",
    "    \n",
    "    raw_osm - raw os merchant record\n",
    "    \"\"\"\n",
    "    # Next 3 lines needed because report format changed\n",
    "    tz_line = \"\"\n",
    "    if timeZoneToken in raw_osm[2] : tz_line = raw_osm[2]   # older reports\n",
    "    elif timeZoneToken in raw_osm[1] : tz_line = raw_osm[1] # newer reports\n",
    "    \n",
    "    time_zone_part = \"NO TIME ZONE\"\n",
    "    if timeZoneToken in tz_line :\n",
    "        time_zone_part = tz_line.split(\"Time Zone:\")[1].strip()\n",
    "    \n",
    "    return time_zone_part\n",
    "    \n",
    "def parseMerchantId(raw_osm):\n",
    "    mid_part = raw_osm[3].split(siteToken)[0]\n",
    "    mid_part = mid_part.replace(merchantToken, \"\").strip()\n",
    "    \n",
    "    return mid_part\n",
    "    \n",
    "def parseSiteId(raw_osm):\n",
    "    sid_part = raw_osm[3].split(siteToken)[1].strip()\n",
    "    \n",
    "    return sid_part\n",
    "    \n",
    "def parseTerminalId(raw_osm):\n",
    "    terminal_part = raw_osm[4].split(terminalToken)[1].strip()\n",
    "    \n",
    "    return terminal_part\n",
    "\n",
    "def loadMerchantInfo(raw_osm):\n",
    "    \"\"\" Returns a dictionary populated with all the merchant information\n",
    "    contained in the raw os merchant record.\n",
    "    \n",
    "    raw_osm - raw os merchant record\n",
    "    \"\"\"\n",
    "    merchant = {}\n",
    "    merchant['busName'] = parseBusinessName(raw_osm)\n",
    "    merchant['corpName'] = parseCorporateName(raw_osm)\n",
    "    merchant['contact'] = parseContact(raw_osm)\n",
    "    merchant['phone'] = parsePhone(raw_osm)\n",
    "    merchant['address'] = parseAddress(raw_osm)\n",
    "    merchant['city'] = parseCity(raw_osm)\n",
    "    merchant['province'] = parseProvince(raw_osm)\n",
    "    merchant['postalCode'] = parsePostalCode(raw_osm)\n",
    "    merchant['timeZone'] = parseTimeZone(raw_osm)\n",
    "    merchant['merchantId'] = parseMerchantId(raw_osm)\n",
    "    merchant['siteId'] = parseSiteId(raw_osm)\n",
    "    merchant['terminalId'] = parseTerminalId(raw_osm)\n",
    "    \n",
    "    return merchant"
   ]
  },
  {
   "cell_type": "markdown",
   "metadata": {},
   "source": [
    "### Persisting the Data\n",
    "\n",
    "Next, we read in each of the monthly report files, break out the raw merchant records, convert those raw records into objects (OsMerchantReportRecords), and then persist those objects in a database.  Because **SQLite** is bundled with Python and has more than enough capabilities for this analysis, it was chosen as the database for this work.\n",
    "\n",
    "The code below assumes that the monthly merchant report files are downloaded locally.  As mentioned earlier, a zip archive of these data files can be found at:  \n",
    "\n",
    "[https://github.com/MichaelSzczepaniak/FraudulentConveyance/raw/master/data/rawOsMerchantReportsTxt/raw_monthly_merchant_datat.zip ](https://github.com/MichaelSzczepaniak/FraudulentConveyance/raw/master/data/rawOsMerchantReportsTxt/raw_monthly_merchant_datat.zip )\n",
    "\n",
    "I stored these files locally in *../data/rawOsMerchantReportsTxt/* relative to this notebook and set this as the default in the **loadDb** function.  Just change the default value for the single parameter in the **loadDb** function below to point it at the directory where they are stored locally on your system."
   ]
  },
  {
   "cell_type": "code",
   "execution_count": 6,
   "metadata": {
    "collapsed": true
   },
   "outputs": [],
   "source": [
    "import sys, os, sqlite3\n",
    "from datetime import datetime as dt"
   ]
  },
  {
   "cell_type": "code",
   "execution_count": 7,
   "metadata": {
    "collapsed": false
   },
   "outputs": [],
   "source": [
    "def buildDropTableCommand(table_name = \"merchants_report_records\"):\n",
    "    drop_table_command = \"drop table if exists \" + table_name\n",
    "    return drop_table_command"
   ]
  },
  {
   "cell_type": "code",
   "execution_count": 8,
   "metadata": {
    "collapsed": true
   },
   "outputs": [],
   "source": [
    "def getOSMfields():\n",
    "    \"\"\" Returns of tuple of 3 lists. First list are the fields of the\n",
    "    OsMerchantReportRecord objects. Second list are the data types\n",
    "    of each of the OsMerchantReportRecord object fields. Third list\n",
    "    are the fields and types separated by space. This third field is\n",
    "    intended to be used with a call that insert data into the db.\n",
    "    \n",
    "    Note: Need to preserve order of asTuple() method\n",
    "    \"\"\"\n",
    "    fields = ['busName', 'corpName', 'contact', 'phone', 'address',\n",
    "              'city', 'province', 'postalCode', 'timeZone',\n",
    "              'merchantId', 'siteId', 'terminalId',\n",
    "              'isoNum', 'reportYear', 'reportMonth']\n",
    "    types = ['text', 'text', 'text', 'text', 'text', 'text',\n",
    "             'text', 'text', 'text', 'text', 'text', 'text',\n",
    "             'text', 'int', 'int']\n",
    "    combo = []\n",
    "    for i in range(len(fields)):\n",
    "        combo.append(fields[i] + \" \" + types[i])\n",
    "    \n",
    "    return (fields, types, combo)"
   ]
  },
  {
   "cell_type": "code",
   "execution_count": 9,
   "metadata": {
    "collapsed": true
   },
   "outputs": [],
   "source": [
    "def buildCreateTableCommand(record_fields = getOSMfields()[2],\n",
    "                            table_name = \"merchants_report_records\"):\n",
    "    \"\"\" Returns a string which is a SQL command to create a new table with the\n",
    "    records that are defined in the record_fields list.  E.g.\n",
    "    \n",
    "    'create table merchants_report_records (isoNum text, reportMonth int, reportYear int)'\n",
    "    \"\"\"\n",
    "    create_table_command = \"create table \" + table_name + \" (\"\n",
    "    for field in record_fields:\n",
    "        create_table_command += field\n",
    "        create_table_command += \", \"\n",
    "    create_table_command = create_table_command.rstrip(\", \") + \")\"\n",
    "    return create_table_command"
   ]
  },
  {
   "cell_type": "code",
   "execution_count": 10,
   "metadata": {
    "collapsed": true
   },
   "outputs": [],
   "source": [
    "def getOsReportInfo(file_name):\n",
    "    result = dict(isoNum = getIsoNumFromFileName(file_name),\n",
    "                  reportYear = getYearFromFileName(file_name),\n",
    "                  reportMonth = getMonthFromFileName(file_name))\n",
    "    return result"
   ]
  },
  {
   "cell_type": "code",
   "execution_count": 11,
   "metadata": {
    "collapsed": true
   },
   "outputs": [],
   "source": [
    "def getIsoNumFromFileName(file_name):\n",
    "    \"\"\" Returns the first three characters from file_name: 07p or 56p\n",
    "    with p being lower case.\n",
    "\n",
    "    file_name is expected to be of the form: iiP_ymm where:\n",
    "    ii = 07 or 56\n",
    "    y = last digit of the year 2004 through 2008\n",
    "    mm = month of the report, zero padded: 01 through 12\n",
    "    e.g. 07P_401.txt\n",
    "    \"\"\"\n",
    "    return file_name[:3].lower()"
   ]
  },
  {
   "cell_type": "code",
   "execution_count": 12,
   "metadata": {
    "collapsed": true
   },
   "outputs": [],
   "source": [
    "def getYearFromFileName(file_name):\n",
    "    \"\"\" Returns an intger year for the report file_name: 2004 thru 2008\n",
    "    \n",
    "    file_name is expected to be of the form: iiP_ymm where:\n",
    "    ii = 07 or 56\n",
    "    y = last digit of the year 2004 through 2008\n",
    "    mm = month of the report, zero padded: 01 through 12\n",
    "    e.g. 07P_401.txt\n",
    "    \"\"\"\n",
    "    return 2000 + int(file_name[4:5])"
   ]
  },
  {
   "cell_type": "code",
   "execution_count": 13,
   "metadata": {
    "collapsed": true
   },
   "outputs": [],
   "source": [
    "def getMonthFromFileName(file_name):\n",
    "    \"\"\" Returns an integer report month from file_name: 1 thru 12\n",
    "    \n",
    "    file_name is expected to be of the form: iiP_ymm where:\n",
    "    ii = 07 or 56\n",
    "    y = last digit of the year 2004 through 2008\n",
    "    mm = month of the report, zero padded: 01 through 12\n",
    "    e.g. 07P_401.txt\n",
    "    \"\"\"\n",
    "    return int(file_name[5:7])"
   ]
  },
  {
   "cell_type": "code",
   "execution_count": 14,
   "metadata": {
    "collapsed": true
   },
   "outputs": [],
   "source": [
    "def buildInsertCommand(table_name = \"merchants_report_records\",\n",
    "                       record_fields = getOSMfields()[0]):\n",
    "    insert_command = \"insert into \" + table_name + \" (\"\n",
    "    for field in record_fields:\n",
    "        insert_command += field\n",
    "        insert_command += \", \"\n",
    "    insert_command = insert_command.rstrip(\", \") + \") values (\"\n",
    "    # Insert ? placeholders for values to load\n",
    "    for marker in range(len(record_fields)):\n",
    "        insert_command += \"?, \"\n",
    "    insert_command = insert_command.rstrip(\", \") + \")\"\n",
    "    return insert_command"
   ]
  },
  {
   "cell_type": "code",
   "execution_count": 15,
   "metadata": {
    "collapsed": true
   },
   "outputs": [],
   "source": [
    "def persistMerchantRecord(data_base, mrec, table_name = \"merchants_report_records\"):\n",
    "    \"\"\" Persists mrec into table table_name in data base data_base.\n",
    "    \"\"\"\n",
    "    insert_command = buildInsertCommand()\n",
    "    data_base.execute(insert_command, mrec.asTuple())\n",
    "    data_base.commit()"
   ]
  },
  {
   "cell_type": "code",
   "execution_count": 16,
   "metadata": {
    "collapsed": true
   },
   "outputs": [],
   "source": [
    "def loadDb(path_to_data=\"../data/rawOsMerchantReportsTxt/\",\n",
    "           db_location=\"../data/OsReportMerchants.sqlite\"):\n",
    "    \"\"\" Create a database in db_location (../data/OsReportMerchants.sqlite by default)\n",
    "    path_to_data = full path to the directory holding the monthly merchant data files\n",
    "    db_location = location of the database relative to this notebook\n",
    "    \"\"\"\n",
    "    print(\"START DB LOAD at: {}\".format(str(dt.now())))\n",
    "    data_dir = path_to_data\n",
    "    db = sqlite3.connect(db_location)  # Connect to db.\n",
    "    drop_table_command = buildDropTableCommand()\n",
    "    db.execute(drop_table_command)\n",
    "    create_table_command = buildCreateTableCommand()\n",
    "    db.execute(create_table_command)\n",
    "    data_files = os.listdir(data_dir)\n",
    "    # Iterate thru all the data files, break them in raw merchant records,\n",
    "    # and then covert them into OsMerchantReportRecord objects\n",
    "    for i in range(len(data_files)):\n",
    "        file = data_files[i]\n",
    "        report_dict = getOsReportInfo(file)\n",
    "        try:\n",
    "            path = data_dir + file\n",
    "            f = open(path)\n",
    "            #print(\"reading:\", path)\n",
    "        except IOError:\n",
    "            print(path, \"not found! Exiting.\")\n",
    "            sys.exit(0)\n",
    "        lines = f.readlines()\n",
    "        # Parse out the raw merchant report records for this file\n",
    "        raw_merchants = getRawMerchantRecords(lines)\n",
    "        record_count = len(raw_merchants)\n",
    "        # Now parse each raw merchant report records into OsMerchantReportRecord objects\n",
    "        # which are then persisted to the db.\n",
    "        for j in range(record_count):\n",
    "            raw_merchant = raw_merchants[j]\n",
    "            merchant_dict = loadMerchantInfo(raw_merchant)\n",
    "            merchant_record = OsMerchantReportRecord(report_dict, merchant_dict)\n",
    "            persistMerchantRecord(db, merchant_record)\n",
    "            \n",
    "        #print(\"finished processing file: {}\".format(file))\n",
    "\n",
    "    db.close()\n",
    "    print(\"FINISH DB LOAD at: {}\".format(str(dt.now())))"
   ]
  },
  {
   "cell_type": "code",
   "execution_count": 17,
   "metadata": {
    "collapsed": false
   },
   "outputs": [],
   "source": [
    "# loadDb()  # You only need to run this once to create the db and first table."
   ]
  },
  {
   "cell_type": "markdown",
   "metadata": {
    "collapsed": true
   },
   "source": [
    "Running the **loadDb** function will create an SQLite3 database that contains a single table: *merchants_report_records* as shown on the right.\n",
    "\n",
    "<img src=\"./img/01db_create.jpg\" alt=\"SQLite Manager\" height=\"300\" width=\"292\" align=\"right\">\n",
    "\n",
    "There are a number of tools to visualize and manage databases.  The one I used for this project was the [SQLite Manager Add-on to the Firefox brower](https://addons.mozilla.org/en-US/firefox/addon/sqlite-manager/).\n",
    "\n",
    "At this point in the analysis, I had to figure out what the data might be able to tell us.  If fraudulant conveyance did occur, what might we expect to see in the data?  One way to start exploring this question would be to look at how the number of merchants had changed over some relevant time period.  Since the American group began investing in mid-2004, documentation was requested from January 2004 through the most recent month available which at the time was April 2008.\n",
    "\n",
    "The **merchants_report_records** table lists all the merchants and terminals each month, but they are not tallied, so the next step was to get these counts.  We start by querying the table we just built and creating a new table with these counts as shown in the code below."
   ]
  },
  {
   "cell_type": "code",
   "execution_count": 18,
   "metadata": {
    "collapsed": false
   },
   "outputs": [],
   "source": [
    "def getCheckTableQueryString(table_name) :\n",
    "    \"\"\" Builds and returns the SQL command that checks for the\n",
    "    the existence of the osMonthlyMerchantsTerminals table.\n",
    "    \"\"\"\n",
    "    query = \"SELECT name FROM sqlite_master WHERE \"\n",
    "    query += \"type='table' AND name='\" + table_name + \"'\"\n",
    "    return query\n",
    "\n",
    "def buildMonthlyMerchantsTerminalsCommand() :\n",
    "    \"\"\" Builds and returns the SQL command what creates the\n",
    "    osMonthlyMerchantsTerminals table.\n",
    "    \"\"\"\n",
    "    create_table = \"CREATE TABLE IF NOT EXISTS osMonthlyMerchantsTerminals \"\n",
    "    create_table += \"AS SELECT ROUND((reportYear + (reportMonth/12.)), 2) \"\n",
    "    create_table += \"AS yearFrac, \"\n",
    "    create_table += \"reportYear, reportMonth, \"\n",
    "    create_table += \"COUNT(DISTINCT merchantId) AS merchantCount, \"\n",
    "    create_table += \"COUNT(DISTINCT terminalId) AS terminalCount \"\n",
    "    create_table += \"FROM merchants_report_records \"\n",
    "    create_table += \"GROUP BY reportYear, reportMonth \"\n",
    "    create_table += \"ORDER BY reportYear, reportMonth\"\n",
    "    return create_table\n",
    "\n",
    "def createMerchantCountTable(db_name=\"../data/OsReportMerchants.sqlite\",\n",
    "                             report_table_name=\"osMonthlyMerchantsTerminals\") :\n",
    "    conn = sqlite3.connect(db_name)  # Connect to db.\n",
    "    cur = conn.cursor()\n",
    "    # Create osMonthlyMerchantsTerminals table used for fraud analysis\n",
    "    # if it doesn't exist.\n",
    "    check_table_query = getCheckTableQueryString(report_table_name)\n",
    "    report_table = pd.read_sql_query(check_table_query, conn)\n",
    "    # Check if table has been created already.\n",
    "    if len(report_table) < 1 :\n",
    "        make_table_command = buildMonthlyMerchantsTerminalsCommand()\n",
    "        cur.execute(make_table_command)\n",
    "    else :\n",
    "        print(\"{} table already exists.\".format(report_table_name))\n",
    "    \n",
    "# createMerchantCountTable()  # As with loadDb, you should only need to call this once."
   ]
  },
  {
   "cell_type": "markdown",
   "metadata": {},
   "source": [
    "Running the **createMerchantCountTable** creates a new table in the database called  *osMonthlyMerchantsTerminals* as shown below right which has the merchant and terminal counts tallied for each month.  The **os** prefix on the name of this table refers to the initials of the processing company which provided the information. They have since changed their name after being acquired by another company.\n",
    "\n",
    "<img src=\"./img/02create_counts.jpg\" alt=\"New table created\" height=\"168\" width=\"350\" align=\"right\">\n",
    "\n",
    "The last preprocessing step is to compute the rate of merchant and terminal drops and adds each month.  We'll use our new table for this and then output the results to a csv file which be read back in to do further analysis."
   ]
  },
  {
   "cell_type": "markdown",
   "metadata": {},
   "source": [
    "### Extracting the Relevant Information For the Analysis\n",
    "We now have the data persisted in a database, but it's still not in a form we can analyze yet.  To do this, we need to compute the number of merchants dropped and added each month."
   ]
  },
  {
   "cell_type": "code",
   "execution_count": 19,
   "metadata": {
    "collapsed": false
   },
   "outputs": [
    {
     "name": "stdout",
     "output_type": "stream",
     "text": [
      "   yearFrac  reportYear  reportMonth  merchantCount  terminalCount  \\\n",
      "0   2004.08        2004            1            173            184   \n",
      "1   2004.17        2004            2            177            186   \n",
      "2   2004.25        2004            3            184            193   \n",
      "\n",
      "  merchant_drops merchant_adds terminal_drops terminal_adds  \\\n",
      "0           None          None           None          None   \n",
      "1             10            14             13            15   \n",
      "2             12            19             13            20   \n",
      "\n",
      "  merchant_drop_rate terminal_drop_rate  \n",
      "0               None               None  \n",
      "1          0.0578035          0.0706522  \n",
      "2          0.0677966          0.0698925  \n"
     ]
    }
   ],
   "source": [
    "import pandas as pd, sqlite3\n",
    "\n",
    "def getUniques(year, month, conn, select_type=\"merchantId\",\n",
    "               table=\"merchants_report_records\") :\n",
    "    \"\"\" Returns an ndarray of unique merchantIds or terminalsIds for a given\n",
    "    month depending on value of select_type paramenter: default is merchantId\n",
    "    year - int, year of the month the get unique merchantIds or terminalIds\n",
    "    month - int, month of the month the get unique merchantIds or terminalIds\n",
    "    conn - database connection to the database where table lives\n",
    "    select_type - string, the type of unique items to be returned. Proper\n",
    "                  values are either 'merchantId' or 'terminalId'\n",
    "    table - string, the table name containing the data\n",
    "    \"\"\"\n",
    "    # year=2004; month=1; table=\"merchants_report_records\"\n",
    "    query = \"SELECT \" + select_type + \" FROM \" + table\n",
    "    query += \" WHERE reportYear = \" + str(year)\n",
    "    query += \" AND reportMonth = \" + str(month)\n",
    "    found_items = pd.read_sql_query(query, conn)\n",
    "    \n",
    "    return found_items[select_type].unique()\n",
    "\n",
    "def getDropsAdds(year0, month0, year1, month1, conn) :\n",
    "    \"\"\" Returns a 6-tuple with the following contents:\n",
    "    result[0] - number of merchants dropped from month0 to month1\n",
    "    result[1] - number of merchants added from month0 to month1\n",
    "    result[2] - number of terminals dropped from month0 to month1\n",
    "    result[3] - number of terminals added from month0 to month1\n",
    "    result[4] - merchant drops as percent prior month merchants\n",
    "    result[5] - terminal drops as percent prior month merchants\n",
    "    \n",
    "    year0 - the year of the prior month. Will be the same as the current\n",
    "            year except when the current month = 1 (January)\n",
    "    month0 - the prior month. Will be (1 - month1) except when current\n",
    "             month (month1) = 1 (January)\n",
    "    year1 - the year of the current report period\n",
    "    month1 - the month fo the current report period\n",
    "    conn - database connection\n",
    "    table - table name were holding all the monthly merchant report records\n",
    "            default value = merchants_report_records\n",
    "    \"\"\"\n",
    "    dropped_merchants = len(list(set(getUniques(year0, month0, conn)) - \\\n",
    "                                 set(getUniques(year1, month1, conn))))\n",
    "    added_merchants = len(list(set(getUniques(year1, month1, conn)) - \\\n",
    "                               set(getUniques(year0, month0, conn))))\n",
    "    dropped_terminals = len(list(set(getUniques(year0, month0, conn, \\\n",
    "                                     \"terminalId\")) - \\\n",
    "                                 set(getUniques(year1, month1, conn, \\\n",
    "                                     \"terminalId\"))))\n",
    "    added_terminals = len(list(set(getUniques(year1, month1, conn, \\\n",
    "                                   \"terminalId\")) - \\\n",
    "                               set(getUniques(year0, month0, conn, \\\n",
    "                                   \"terminalId\"))))\n",
    "    frac_merch_drops = dropped_merchants / \\\n",
    "                       len(getUniques(year0, month0, conn))\n",
    "    frac_term_drops = dropped_terminals / \\\n",
    "                       len(getUniques(year0, month0, conn, \"terminalId\"))\n",
    "    \n",
    "    return (dropped_merchants, added_merchants,\n",
    "            dropped_terminals, added_terminals,\n",
    "            frac_merch_drops, frac_term_drops)\n",
    "\n",
    "def populateAddsDropsMersTers(mer_ter_df, conn) :\n",
    "    \"\"\" Populates the drops, adds and drop_rate columns in the mer_ter_df\n",
    "    dataframe.\n",
    "    \n",
    "    mer_ter_df - dataframe with the columns defined the \n",
    "    buildMonthlyMerchantsTerminalsCommand function:\n",
    "    yearFrac, reportYear, reportMonth, merchantCount, terminalCount\n",
    "    \n",
    "    A dropped merchant is one that had a merchantId in the immediately\n",
    "    preceding month which was absent in the current month. Similar for a\n",
    "    dropped terminal: terminalId existed in prior but not current month\n",
    "    \"\"\"\n",
    "    df = mer_ter_df\n",
    "    for i in range(1, len(df)) :\n",
    "        current_year = df.ix[i, 'reportYear']\n",
    "        current_month = df.ix[i, 'reportMonth']\n",
    "        # calc prior period assuming we're not crossing year boundary\n",
    "        prior_year = current_year\n",
    "        prior_month = current_month - 1\n",
    "        # Adjust prior month and year if it crosses a year boundary\n",
    "        if prior_month < 1 :\n",
    "            prior_month = 12\n",
    "            prior_year = current_year - 1\n",
    "        dropsAdds = getDropsAdds(prior_year, prior_month,\n",
    "                                 current_year, current_month, conn)\n",
    "        df.set_value(i, 'merchant_drops', dropsAdds[0])\n",
    "        df.set_value(i, 'merchant_adds', dropsAdds[1])\n",
    "        df.set_value(i, 'terminal_drops', dropsAdds[2])\n",
    "        df.set_value(i, 'terminal_adds', dropsAdds[3])\n",
    "        df.set_value(i, 'merchant_drop_rate', dropsAdds[4])\n",
    "        df.set_value(i, 'terminal_drop_rate', dropsAdds[5])\n",
    "        \n",
    "    return df\n",
    "\n",
    "def getDropsAddsReport(conn, table_name='osMonthlyMerchantsTerminals') :\n",
    "    \"\"\" Builds and returns a dataframe with the following columns:\n",
    "    yearFrac - float in the form yyyy.xx where xx is in 1/12 increments\n",
    "               which should make it suitable for scatter plotting\n",
    "    reportYear - int, year of a given merchants/terminals report: 2004-2008\n",
    "    reportMonth - int, month of a given merchants/terminals report: 1-12\n",
    "    merchant_adds - int, number of merchants added from prior month\n",
    "    merchant_drops - int, number of merchants lost from prior month\n",
    "    terminal_adds - int, number of terminals added from prior month\n",
    "    terminal_drops - int, number of terminals lost from prior month\n",
    "    merchant_drop_rate - int, number of merchants lost as % of prior month\n",
    "    terminal_drop_rate - int, number of terminals lost as % of prior month\n",
    "    \n",
    "    parameters: conn - SQLite3 database connection\n",
    "                table_name - name of the database table used to create the report\n",
    "    \"\"\"\n",
    "    df = pd.read_sql_query(\"SELECT * from \" + table_name, conn)\n",
    "    # Add new columns and init to a recognizably unmodified value.\n",
    "    df['merchant_drops'] = None\n",
    "    df['merchant_adds'] = None\n",
    "    df['terminal_drops'] = None\n",
    "    df['terminal_adds'] = None\n",
    "    df['merchant_drop_rate'] = None\n",
    "    df['terminal_drop_rate'] = None\n",
    "    # Populate the values of above 4 created columns.\n",
    "    df = populateAddsDropsMersTers(df, conn)\n",
    "    \n",
    "    return df\n",
    "\n",
    "# connect to local db, get the needed data and write it to a csv file\n",
    "conn = sqlite3.connect(\"../data/OsReportMerchants.sqlite\")  # change path as needed\n",
    "df = getDropsAddsReport(conn)\n",
    "\n",
    "df['merchant_drop_rate'] = df['merchant_drop_rate'].map(lambda x: '{0:.6}'.format(x), 'ignore')\n",
    "df['terminal_drop_rate'] = df['terminal_drop_rate'].map(lambda x: '{0:.6}'.format(x), 'ignore')\n",
    "df.to_csv(\"../data/OsMerchantTerminalDropsAdds.csv\", index=False)\n",
    "print(df.head(3))  # Take a look at the 1st 3 rows as a check."
   ]
  },
  {
   "cell_type": "markdown",
   "metadata": {},
   "source": [
    "### Visualizing the Data\n",
    "With all our data in one place, let's take a look at a plot of merchant counts over time.  In the plot below, three different markers and colors are used to show distinct time periods.\n",
    "\n",
    "Blue circles represent the period where everything seemed to be going fine.  In this period, the company was making its payments regularly and (more or less) on time.  Black triangles represent the period where the company stopped making payments, but made continued promises that it would catch up.  Red squares represent the period starting with the first filing for judgment.  Legal action continued for about 5 years after this, but only data obtained from the first JDE is presented here."
   ]
  },
  {
   "cell_type": "code",
   "execution_count": 25,
   "metadata": {
    "collapsed": false
   },
   "outputs": [],
   "source": [
    "import numpy as np, pandas as pd, matplotlib as mp, matplotlib.pyplot as plt\n",
    "from matplotlib.ticker import ScalarFormatter\n",
    "%matplotlib inline\n",
    "data = pd.read_csv(\"../data/OsMerchantTerminalDropsAdds.csv\")\n",
    "\n",
    "def makeStackedMerchantPlots(d=data, width=12, height=12, plots='both') :\n",
    "    fig = plt.figure(figsize=(width, height))\n",
    "    ax1 = None; ax2 = None\n",
    "    d1 = d.loc[1:29, ('yearFrac', 'merchantCount', 'merchant_drop_rate')]\n",
    "    d2 = d.loc[30:35, ('yearFrac', 'merchantCount', 'merchant_drop_rate')]\n",
    "    d3 = d.loc[36:, ('yearFrac', 'merchantCount', 'merchant_drop_rate')]\n",
    "    if(plots == 'top' or plots == 'both'):\n",
    "        ax1 = fig.add_subplot(211)\n",
    "        majorLocator = mp.ticker.MultipleLocator(1)\n",
    "        \n",
    "        x_formatter = mp.ticker.ScalarFormatter(useOffset=False)\n",
    "        ax1.xaxis.set_major_formatter(x_formatter)\n",
    "        ax1.xaxis.set_major_locator(majorLocator)\n",
    "        \n",
    "        ax1.plot(d1['yearFrac'], d1['merchantCount'], 'bo')\n",
    "        ax1.plot(d2['yearFrac'], d2['merchantCount'], 'k^')\n",
    "        ax1.plot(d3['yearFrac'], d3['merchantCount'], 'rs')\n",
    "        ax1.set_xlim([2004,2008.5])\n",
    "        ax1.set_ylim([100, 900])\n",
    "        ax1.set_xlabel(\"Year\")\n",
    "        ax1.set_ylabel(\"Merchant Count\")\n",
    "        ax1.set_title(\"Monthly Merchant Count\")\n",
    "\n",
    "    if(plots == 'bottom' or plots == 'both'):\n",
    "        ax2 = fig.add_subplot(212)\n",
    "        majorLocator = mp.ticker.MultipleLocator(1)\n",
    "        \n",
    "        x_formatter = mp.ticker.ScalarFormatter(useOffset=False)\n",
    "        ax2.xaxis.set_major_formatter(x_formatter)\n",
    "        ax2.xaxis.set_major_locator(majorLocator)\n",
    "        \n",
    "        ax2.plot(d1['yearFrac'], d1['merchant_drop_rate'], 'bo')\n",
    "        ax2.plot(d2['yearFrac'], d2['merchant_drop_rate'], 'k^')\n",
    "        ax2.plot(d3['yearFrac'], d3['merchant_drop_rate'], 'rs')\n",
    "        ax2.set_xlim([2004,2008.5])\n",
    "        ax2.set_ylim([0, 0.2])\n",
    "        ax2.set_xlabel(\"Year\")\n",
    "        ax2.set_ylabel(\"Fraction of Merchants Dropped\")\n",
    "        ax2.set_title(\"Monthly Merchant Drop Fraction\")\n",
    "    \n",
    "    return fig, ax1, ax2, (d1, d2, d3)"
   ]
  },
  {
   "cell_type": "code",
   "execution_count": 28,
   "metadata": {
    "collapsed": false,
    "scrolled": true
   },
   "outputs": [
    {
     "data": {
      "image/png": "[encoded data removed]",
      "text/plain": [
       "<matplotlib.figure.Figure at 0xb728978>"
      ]
     },
     "metadata": {},
     "output_type": "display_data"
    }
   ],
   "source": [
    "f, a1, a2, dat = makeStackedMerchantPlots(plots='both')"
   ]
  },
  {
   "cell_type": "markdown",
   "metadata": {
    "collapsed": true
   },
   "source": [
    "### Finally, Some Analysis!\n",
    "The two simple plots above revealed an additional narrative to the story the president was telling during his examination.\n",
    "\n",
    "1. Total merchant count was maximum on July 2006. In this month, the president stopped making required payments to the investors.\n",
    "2. From February 2004 thru July 2006, it appears that monthly merchant drop rates as a fraction of merchant count in the prior month appeared to be trending downward. The variation in this rate of dropped merchants also appeared to be falling during this period.\n",
    "3. A demand letter was issued to the president in January 2007, and the intial claim filed in February 2007. From this point forward, the merchant drop rate reversed its downward trend and began trending upward.\n",
    "\n",
    "Since trend lines can be quantified by slopes of linear regression lines, lets compare the slopes of the first region defined by the blue points and the second region defined by all the red points.  Start with a quick derivation of the formula for the linear regression weights.\n",
    "\n",
    "As has been derived in countless textbooks, the linear least squares equation for $\\wv$ can be written in matrix form as\n",
    "\n",
    "$\\Xv^T \\Xv \\wv = \\Xv^T \\Tv$\n",
    "\n",
    "Each row of $\\Xv$ is a sample (51 in our case) and each column is a feature.  Even though we only have a single feature, we need an additional column of ones in $\\Xv$ in order to compute both the slope $w_1$ and the intercept $w_0$.\n",
    "\n",
    "There are several ways to solve for $\\wv$, but the above form of the equation was chosen so that we can use the *lstsq* function because it does not assume linearly independent matrix columns. \n",
    "\n",
    "    w = np.linalg.lstsq(np.dot(X.T,X), np.dot(X.T, T))\n",
    "    \n",
    "$X$ is the *yearFrac* and $T$ is the *merchant_drop_rate* fields in our data frame. Before we can work with these as matrices, we need to convert these columns to numpy arrays, remove the first row because rate data starts in the second row, and append a columns of 1's to allow us to compute $w_0$"
   ]
  },
  {
   "cell_type": "code",
   "execution_count": 30,
   "metadata": {
    "collapsed": false
   },
   "outputs": [
    {
     "data": {
      "text/plain": [
       "((51, 2), (51, 1))"
      ]
     },
     "execution_count": 30,
     "metadata": {},
     "output_type": "execute_result"
    }
   ],
   "source": [
    "X = np.array(data['yearFrac'])[1:, np.newaxis]  # 1st row doesn't have rate info\n",
    "T = np.array(data['merchant_drop_rate'])[1:, np.newaxis]\n",
    "X1 = np.hstack((np.ones((len(X), 1)), X))  # N x 1 vector of 1's hstack with X\n",
    "X1.shape, T.shape"
   ]
  },
  {
   "cell_type": "code",
   "execution_count": 31,
   "metadata": {
    "collapsed": false
   },
   "outputs": [],
   "source": [
    "def makeStandardize(X):\n",
    "    means = X.mean(axis=0)\n",
    "    stds = X.std(axis=0)\n",
    "    \n",
    "    def standardize(origX):\n",
    "        return (origX - means) / stds\n",
    "    \n",
    "    def unStandardize(stdX):\n",
    "        return stds * stdX + means\n",
    "    \n",
    "    return (standardize, unStandardize)\n",
    "\n",
    "def train(X, T):\n",
    "    w = np.linalg.lstsq(np.dot(X.T,X), np.dot(X.T, T))\n",
    "    return w[0]\n",
    "\n",
    "def use(x, w):\n",
    "    return np.dot(x, w)"
   ]
  },
  {
   "cell_type": "code",
   "execution_count": 36,
   "metadata": {
    "collapsed": false
   },
   "outputs": [
    {
     "data": {
      "text/plain": [
       "[<matplotlib.lines.Line2D at 0x98a3240>]"
      ]
     },
     "execution_count": 36,
     "metadata": {},
     "output_type": "execute_result"
    },
    {
     "data": {
      "image/png": "[encoded data removed]",
      "text/plain": [
       "<matplotlib.figure.Figure at 0x98ba7b8>"
      ]
     },
     "metadata": {},
     "output_type": "display_data"
    }
   ],
   "source": [
    "# add regression lines\n",
    "pre_legal_weights = train(X1[0:29,:], T[0:29,:])  # w0 (intercept), w1 (slope)\n",
    "post_legal_weights = train(X1[-16:,:], T[-16:,:])\n",
    "pre_legal_regress = use(X1[0:29,:], pre_legal_weights)\n",
    "post_legal_regress = use(X1[-16:,:], post_legal_weights)\n",
    "d4 = np.vstack((pre_legal_regress, post_legal_regress))\n",
    "f, a1, a2, data = makeStackedMerchantPlots(plots='bottom')\n",
    "a2.set_xlabel(\"X = Year\")\n",
    "a2.set_ylabel(\"T = Fraction of Merchants Dropped\")\n",
    "plt.plot(data[0]['yearFrac'], d4[:29], 'b')\n",
    "plt.plot(data[2]['yearFrac'], d4[-16:,:], 'r')"
   ]
  },
  {
   "cell_type": "markdown",
   "metadata": {},
   "source": [
    "In the above chart, we are modeling the target T, **Faction of Merchants Dropped** as a function of X month in **Year**:\n",
    "\n",
    "\\begin{align*}\n",
    "T(blue) = w_{0, blue} + w_{1, blue}X \\\\\n",
    "T(red) = w_{0, red} + w_{1, red}X\n",
    "\\end{align*}\n",
    "\n",
    "There are two things that jump out form the above chart: 1) the slopes of the blue and red regression lines and 2) the all those extreme red drop rate points.  The first observation can be summarized by asking: Are the slopes the same?  In other words, we want to test if:\n",
    "\\begin{align*}\n",
    "H_0: w_{1, blue} = w_{1, red} \\\\\n",
    "H_1: w_{1, blue} < w_{1, red}\n",
    "\\end{align*}\n",
    "\n",
    "The first step is to compute the appropriate statistic [[7]](http://www.real-statistics.com/regression/hypothesis-testing-significance-regression-line-slope/comparing-slopes-two-independent-samples/):\n",
    "\\begin{align*}\n",
    "t = \\frac{w_{1, red} - w_{1, blue}}{\\sqrt{s_{w_{1, red}}^2 + s_{w_{1, blue}}^2}}\n",
    "\\end{align*}\n",
    "\n",
    "The terms in the denominator are variances of the red and blue line slopes respectively:\n",
    "\\begin{align*}\n",
    "s_{w_{1, red}}^2 = \\frac{s_{TX, red}^2}{s_{X, red}^2(n_{red}-1)} \\\\\n",
    "s_{w_{1, blue}}^2 = \\frac{s_{TX, blue}^2}{s_{X, blue}^2(n_{blue}-1)}\n",
    "\\end{align*}\n",
    "\n",
    "where $s_{X}^2$ is the variance of the time (year) values and $s_{TX} = s_T \\sqrt{(1-r^2)\\frac{n-1}{n-2}}$ where $r^2$ is the *coefficient of determination* between $X$ and $T$ and $s_{T}$ is the standard deviation of the target values.  Each of these quantities need to be evaluated in each region (blue or red).\n",
    "\n",
    "These calculations are performed in the **RegressionInference** module with the **compareTwoRegSlopes** function.  Because this function takes vectors for the independent (x) and dependent (y) variables implemented as numpy arrays, we need to wrap the pandas series objects with calls to **as_matrix** as shown below."
   ]
  },
  {
   "cell_type": "code",
   "execution_count": 7,
   "metadata": {
    "collapsed": false
   },
   "outputs": [],
   "source": [
    "import RegressionInference as ri, numpy as np\n",
    "\n",
    "slope_compare_test = ri.compareTwoRegSlopes(d1.as_matrix(['yearFrac']), d1.as_matrix(['merchant_drop_rate']),\n",
    "                                            d3.as_matrix(['yearFrac']), d3.as_matrix(['merchant_drop_rate']),\n",
    "                                            alpha=0.01, tail_type='left')"
   ]
  },
  {
   "cell_type": "code",
   "execution_count": 8,
   "metadata": {
    "collapsed": false
   },
   "outputs": [
    {
     "data": {
      "text/plain": [
       "('0.0010597', True)"
      ]
     },
     "execution_count": 8,
     "metadata": {},
     "output_type": "execute_result"
    }
   ],
   "source": [
    "'{0:.5}'.format(slope_compare_test['p_val']), slope_compare_test['sig']"
   ]
  },
  {
   "cell_type": "markdown",
   "metadata": {},
   "source": [
    "### Results & Conclusion\n",
    "Even being conservative and setting the confidence level at 99% ($\\alpha = 0.01$), we can still reject the null hypothesis in favor of the altenative.  There is about 0.1% probability that the blue and red slopes are the same.  Conversely, there is roughly a 99.9% chance that the red slope is larger than the blue slope.\n",
    "\n",
    "From 2004 through 2007, merchant drops gradually decelerated, the variability in the drop rate fell, and the total merchant count was increasing.  A reasonable interpretation of these facts would be that the business had been maturing and doing well.  Then as soon as legal action commenced, the merchant drop rate climbed significantly and the merchant count fell.  If the business truely had problems, one would reasonalbly have expected merchants counts to fall and a flat or increasing drop rate **prior to** defaulting (not afterward).\n",
    "\n",
    "Consistent with these findings are the extremely high red drop rate points"
   ]
  },
  {
   "cell_type": "markdown",
   "metadata": {
    "collapsed": true
   },
   "source": [
    "### Prologue\n",
    "This analysis motivated the American group to file a fraudulant conveyance action against the Canadian company.  During the course of this action, additional information became available that allowed me to show that many of the dropped merchants in this analysis could be identified in other accounts which were not originally disclosed.  These **other accounts** were in the name of other companies and entities controlled by the president of the original company we sued.  This analysis and the additional findings caused the defendants to shift their arguments away from contesting that the transfer of merchants had occurred, towards one where they claimed that the amount of actual fraud was less than what the plaintiffs claimed.\n",
    "\n",
    "The dispute over the quanta (the amount of actual fraud) was a much more extensive, but arguably not as interesting analysis involving the aggregation of large amounts of disparate data sources into a single comprehensive database from which the plaintiffs estimates were based.  When I met with the defendants expert witness to go over our analysis of the quanta, he found it robust and unassailable.  An agreeable settlement resulted within hours of this meeting."
   ]
  },
  {
   "cell_type": "markdown",
   "metadata": {},
   "source": [
    "### References\n",
    "[1] Judgment: https://github.com/MichaelSzczepaniak/FraudulentConveyance/blob/master/Judgment%20%28redacted%29.pdf  \n",
    "[2] Judgment Debtor Exam: https://www.attorneygeneral.jus.gov.on.ca/english/courts/guides/After_Judgement_Guide_to_Getting_Results_EN.html#_Toc436642217  \n",
    "[3] What is Fraudulant Conveyance? https://en.wikipedia.org/wiki/Fraudulent_conveyance  \n",
    "[4] Raw Data: https://github.com/MichaelSzczepaniak/FraudulentConveyance/raw/master/data/rawOsMerchantReportsTxt/raw_monthly_merchant_datat.zip  \n",
    "[5] What is preprecessing? https://www.techopedia.com/definition/14650/data-preprocessing  \n",
    "[6] Firefox SQLite Manager Add-on: https://addons.mozilla.org/en-US/firefox/addon/sqlite-manager/  \n",
    "[7] Comparing the slopes for two independent samples: http://www.real-statistics.com/regression/hypothesis-testing-significance-regression-line-slope/comparing-slopes-two-independent-samples/    "
   ]
  }
 ],
 "metadata": {
  "kernelspec": {
   "display_name": "Python 3",
   "language": "python",
   "name": "python3"
  },
  "language_info": {
   "codemirror_mode": {
    "name": "ipython",
    "version": 3
   },
   "file_extension": ".py",
   "mimetype": "text/x-python",
   "name": "python",
   "nbconvert_exporter": "python",
   "pygments_lexer": "ipython3",
   "version": "3.5.1"
  }
 },
 "nbformat": 4,
 "nbformat_minor": 0
}
