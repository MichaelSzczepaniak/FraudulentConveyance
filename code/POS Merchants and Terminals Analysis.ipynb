{
 "cells": [
  {
   "cell_type": "markdown",
   "metadata": {},
   "source": [
    "# Forensic POS Data Analysis"
   ]
  },
  {
   "cell_type": "markdown",
   "metadata": {},
   "source": [
    "$\\newcommand{\\xv}{\\mathbf{x}}\n",
    "\\newcommand{\\Xv}{\\mathbf{X}}\n",
    "\\newcommand{\\yv}{\\mathbf{y}}\n",
    "\\newcommand{\\zv}{\\mathbf{z}}\n",
    "\\newcommand{\\av}{\\mathbf{a}}\n",
    "\\newcommand{\\Wv}{\\mathbf{W}}\n",
    "\\newcommand{\\wv}{\\mathbf{w}}\n",
    "\\newcommand{\\tv}{\\mathbf{t}}\n",
    "\\newcommand{\\Tv}{\\mathbf{T}}\n",
    "\\newcommand{\\muv}{\\boldsymbol{\\mu}}\n",
    "\\newcommand{\\sigmav}{\\boldsymbol{\\sigma}}\n",
    "\\newcommand{\\phiv}{\\boldsymbol{\\phi}}\n",
    "\\newcommand{\\Phiv}{\\boldsymbol{\\Phi}}\n",
    "\\newcommand{\\Sigmav}{\\boldsymbol{\\Sigma}}\n",
    "\\newcommand{\\Lambdav}{\\boldsymbol{\\Lambda}}\n",
    "\\newcommand{\\half}{\\frac{1}{2}}\n",
    "\\newcommand{\\argmax}[1]{\\underset{#1}{\\operatorname{argmax}}}\n",
    "\\newcommand{\\argmin}[1]{\\underset{#1}{\\operatorname{argmin}}}$"
   ]
  },
  {
   "cell_type": "markdown",
   "metadata": {},
   "source": [
    "### Backgound & Objective\n",
    "In 2006, a group of Americans invested in a company that claimed it went out of buisness shortly after receiving funds from the group.  This company sold and serviced point-of-sales (POS) equipment such as credit and debit card processing machines to small and medium sized merchants throughout Canada.  The information the Americans collected as a part of their due diligence suggested that the company they had invested in had substantial assets and cashflow, but that the president of the company was attempting to avoid paying back the investors in spite of having the means to do so.\n",
    "\n",
    "In 2007, the Americans obtained a [judgment against the company](https://github.com/MichaelSzczepaniak/FraudulentConveyance/blob/master/Judgment%20%28redacted%29.pdf) and conducted a [judgment debtor examination (JDE)](https://www.attorneygeneral.jus.gov.on.ca/english/courts/guides/After_Judgement_Guide_to_Getting_Results_EN.html#_Toc436642217) with the president.  One of the undertakings from the JDE was for the president of the company to provide data showing the monthly account activity for all the merchants and terminals the company had in its portfolio over a given time period.\n",
    "\n",
    "The purpose of this analysis was to investigate the likelihood that [fraudulant conveyance](https://en.wikipedia.org/wiki/Fraudulent_conveyance) had occurred.  This was originally done in Java.  The data being analyzed in this notebook was taken from the actual legal action that spanned from 2007 through 2013 utilizing a port of the original Java code over to Python.\n",
    "\n",
    "### Data\n",
    "The data was originally provided as a collection of Microsoft Word files which were converted to and saved as straight ASCII text files to simplify the analysis.  Each of these data files can be found [here](https://github.com/MichaelSzczepaniak/FraudulentConveyance/tree/master/data/rawOsMerchantReportsTxt).  These text files are the raw data from which the [preprocessing](https://www.techopedia.com/definition/14650/data-preprocessing) and the subsequent analysis was conducted.\n",
    "\n",
    "### Preprocessing\n",
    "As with most data analysis projects, most of the work involved preprocessing the data to get it into a usable form.  The first step was to see what this data looked like.  Start by looking at the first few lines of the first data file."
   ]
  },
  {
   "cell_type": "code",
   "execution_count": 41,
   "metadata": {
    "collapsed": false
   },
   "outputs": [
    {
     "data": {
      "text/plain": [
       "'\\tTo:\\tNCE NEW CANASIAN ENT INC\\tContact: CHRIS GREEN, Phone: 613-722-7797, Fax:   \\n\\tHARVEST LOAF, 1323'"
      ]
     },
     "execution_count": 41,
     "metadata": {},
     "output_type": "execute_result"
    }
   ],
   "source": [
    "import urllib.request\n",
    "data_url = \"https://raw.githubusercontent.com/MichaelSzczepaniak/FraudulentConveyance/master/data/rawOsMerchantReportsTxt/07P_401.txt\"\n",
    "\n",
    "with urllib.request.urlopen(data_url) as response:\n",
    "   response_data = str(response.read(),'utf-8')\n",
    "\n",
    "response_data[:100]"
   ]
  },
  {
   "cell_type": "markdown",
   "metadata": {},
   "source": [
    "The response from the *urlopen* request is just a big bucket of bytes which is converted to a big string with no line breaks.  So to make this data easier to work with, we'll split this sting into an array of strings."
   ]
  },
  {
   "cell_type": "code",
   "execution_count": 52,
   "metadata": {
    "collapsed": false
   },
   "outputs": [
    {
     "name": "stdout",
     "output_type": "stream",
     "text": [
      "\tTo:\tNCE NEW CANASIAN ENT INC\tContact: CHRIS GREEN, Phone: 613-722-7797, Fax:   \n",
      "\tHARVEST LOAF, 1323 WELLINGTON\n",
      "\tOTTAWA, ON,  K1Y 3B6\tTime Zone:  Eastern Time \n",
      "\tMerchant: 07P282          Site:   07P28201\n",
      "\n",
      "\tTerminal: 07P10008\n",
      "\n",
      "\tMONTHLY SETTLEMENT\n",
      "\n",
      "\tDate\tBatch #\tComplete #\tIncomplete #\tApproved\n",
      "\tUser Fee\tPurchase \n",
      "\tHaulage Fee\tHaulage Fee\tMerchant\n",
      "\n",
      "\tTransaction \n",
      "\tCollected Daily\tSettlement\n",
      "\n",
      "\t01/02\t1\t4\t0\t33.91\t1.00\t32.91\t0.70\t0.00\t32.91\n",
      "\t01/03\t1\t6\t0\t30.88\t1.50\t29.38\t1.05\t0.00\t29.38\n",
      "...\n",
      "\n",
      "\tTo:\tDAVIS J CATT\tContact: DAVID OR VICKY, Phone: 705-734-0755, Fax:   \n",
      "\tANNSDALE SMALL ENGINES, 181 BROCK ST\n",
      "\tBARRIE, ON,  L4N 2M3\tTime Zone:  Eastern Time \n",
      "\tMerchant: 07P257          Site:   07P25701\n",
      "\n",
      "\tTerminal: 07P10200\n",
      "\n",
      "\tMONTHLY SETTLEMENT\n",
      "\n",
      "\tDate\tBatch #\tComplete #\tIncomplete #\tApproved\n",
      "\tUser Fee\tPurchase \n",
      "\tHaulage Fee\tHaulage Fee\tMerchant\n",
      "\n",
      "\tTransaction \n",
      "\tCollected Daily\tSettlement\n",
      "\n",
      "\t01/06\t1\t1\t0\t118.65\t0.25\t118.40\t0.18\t0.00\t118.40\n",
      "\t01/07\t1\t1\t0\t46.20\t0.25\t45.95\t0.18\t0.00\t45.95\n",
      "...\n"
     ]
    }
   ],
   "source": [
    "report_as_lines = data.split(\"\\n\")\n",
    "print(\"\\n\".join(report_as_lines[:18]))\n",
    "print(\"...\")\n",
    "print(\"\\n\".join(report_as_lines[48:67]))\n",
    "print(\"...\")"
   ]
  },
  {
   "cell_type": "markdown",
   "metadata": {},
   "source": [
    "Now this is starting to look more understandable.  From here, we need to break out the sections assigned to each merchant.  I call the sections representing each merchant **raw merchant records** and use the following function to parse the out."
   ]
  },
  {
   "cell_type": "code",
   "execution_count": 55,
   "metadata": {
    "collapsed": false
   },
   "outputs": [
    {
     "name": "stdout",
     "output_type": "stream",
     "text": [
      "getRawMerchantRecords: number of lines =  6699\n",
      "To:\tNCE NEW CANASIAN ENT INC\tContact: CHRIS GREEN, Phone: 613-722-7797, Fax:\n",
      "HARVEST LOAF, 1323 WELLINGTON\n",
      "OTTAWA, ON,  K1Y 3B6\tTime Zone:  Eastern Time\n",
      "Merchant: 07P282          Site:   07P28201\n",
      "Terminal: 07P10008\n",
      "MONTHLY SETTLEMENT\n",
      "Date\tBatch #\tComplete #\tIncomplete #\tApproved\n",
      "User Fee\tPurchase\n",
      "Haulage Fee\tHaulage Fee\tMerchant\n",
      "Transaction\n",
      "Collected Daily\tSettlement\n",
      "01/02\t1\t4\t0\t33.91\t1.00\t32.91\t0.70\t0.00\t32.91\n",
      "01/03\t1\t6\t0\t30.88\t1.50\t29.38\t1.05\t0.00\t29.38\n",
      "01/04\t1\t7\t0\t70.41\t1.75\t68.66\t1.23\t0.00\t68.66\n",
      "01/05\t1\t2\t0\t15.51\t0.50\t15.01\t0.35\t0.00\t15.01\n",
      "01/06\t1\t3\t0\t36.48\t0.75\t35.73\t0.53\t0.00\t35.73\n",
      "01/07\t1\t2\t0\t17.80\t0.50\t17.30\t0.35\t0.00\t17.30\n",
      "01/08\t1\t1\t0\t4.98\t0.25\t4.73\t0.18\t0.00\t4.73\n",
      "01/09\t1\t4\t1\t61.38\t1.00\t60.38\t0.75\t0.00\t60.38\n",
      "01/10\t1\t8\t3\t103.97\t2.00\t101.97\t1.55\t0.00\t101.97\n",
      "01/11\t1\t3\t0\t24.64\t0.75\t23.89\t0.53\t0.00\t23.89\n",
      "01/12\t1\t2\t0\t6.75\t0.50\t6.25\t0.35\t0.00\t6.25\n",
      "01/13\t1\t2\t0\t11.15\t0.50\t10.65\t0.35\t0.00\t10.65\n",
      "01/14\t1\t4\t0\t53.52\t1.00\t52.52\t0.70\t0.00\t52.52\n",
      "01/15\t1\t3\t0\t33.20\t0.75\t32.45\t0.53\t0.00\t32.45\n",
      "01/17\t1\t7\t0\t60.41\t1.75\t58.66\t1.23\t0.00\t58.66\n",
      "01/18\t1\t3\t0\t82.50\t0.75\t81.75\t0.53\t0.00\t81.75\n",
      "01/19\t1\t3\t0\t18.40\t0.75\t17.65\t0.53\t0.00\t17.65\n",
      "01/21\t1\t2\t0\t14.87\t0.50\t14.37\t0.35\t0.00\t14.37\n",
      "01/22\t1\t5\t0\t47.29\t1.25\t46.04\t0.88\t0.00\t46.04\n",
      "01/23\t1\t3\t0\t31.11\t0.75\t30.36\t0.53\t0.00\t30.36\n",
      "01/24\t1\t9\t1\t195.20\t2.25\t192.95\t1.63\t0.00\t192.95\n",
      "01/25\t1\t6\t1\t70.92\t1.50\t69.42\t1.10\t0.00\t69.42\n",
      "01/26\t1\t1\t0\t15.10\t0.25\t14.85\t0.18\t0.00\t14.85\n",
      "01/27\t1\t4\t0\t20.44\t1.00\t19.44\t0.70\t0.00\t19.44\n",
      "01/28\t1\t1\t0\t9.85\t0.25\t9.60\t0.18\t0.00\t9.60\n",
      "01/29\t1\t1\t0\t16.41\t0.25\t16.16\t0.18\t0.00\t16.16\n",
      "01/30\t1\t2\t0\t22.29\t0.50\t21.79\t0.35\t0.00\t21.79\n",
      "01/31\t1\t10\t0\t85.95\t2.50\t83.45\t1.75\t0.00\t83.45\n",
      "28\t108\t6\t1,195.32\t27.00\t1,168.32\t19.20\t0.00\t1,168.32\n",
      "--------------------------------------------------------------------\n",
      "To:\tDAVIS J CATT\tContact: DAVID OR VICKY, Phone: 705-734-0755, Fax:\n",
      "ANNSDALE SMALL ENGINES, 181 BROCK ST\n",
      "BARRIE, ON,  L4N 2M3\tTime Zone:  Eastern Time\n",
      "Merchant: 07P257          Site:   07P25701\n",
      "Terminal: 07P10200\n",
      "MONTHLY SETTLEMENT\n",
      "Date\tBatch #\tComplete #\tIncomplete #\tApproved\n",
      "User Fee\tPurchase\n",
      "Haulage Fee\tHaulage Fee\tMerchant\n",
      "Transaction\n",
      "Collected Daily\tSettlement\n",
      "01/06\t1\t1\t0\t118.65\t0.25\t118.40\t0.18\t0.00\t118.40\n",
      "01/07\t1\t1\t0\t46.20\t0.25\t45.95\t0.18\t0.00\t45.95\n",
      "01/08\t1\t1\t0\t27.56\t0.25\t27.31\t0.18\t0.00\t27.31\n",
      "01/09\t1\t2\t0\t142.88\t0.50\t142.38\t0.35\t0.00\t142.38\n",
      "01/10\t1\t1\t0\t309.14\t0.25\t308.89\t0.18\t0.00\t308.89\n",
      "01/13\t1\t1\t0\t89.03\t0.25\t88.78\t0.18\t0.00\t88.78\n",
      "01/17\t1\t3\t0\t668.16\t0.75\t667.41\t0.53\t0.00\t667.41\n",
      "01/19\t1\t1\t0\t9.45\t0.25\t9.20\t0.18\t0.00\t9.20\n",
      "01/22\t1\t2\t0\t230.21\t0.50\t229.71\t0.35\t0.00\t229.71\n",
      "01/23\t1\t2\t0\t109.46\t0.50\t108.96\t0.35\t0.00\t108.96\n",
      "01/27\t1\t2\t0\t128.03\t0.50\t127.53\t0.35\t0.00\t127.53\n",
      "01/28\t1\t3\t0\t89.01\t0.75\t88.26\t0.53\t0.00\t88.26\n",
      "01/29\t1\t1\t0\t144.46\t0.25\t144.21\t0.18\t0.00\t144.21\n",
      "01/30\t1\t6\t0\t1,506.55\t1.50\t1,505.05\t1.05\t0.00\t1,505.05\n",
      "01/31\t1\t3\t0\t248.69\t0.75\t247.94\t0.53\t0.00\t247.94\n",
      "15\t30\t0\t3,867.48\t7.50\t3,859.98\t5.25\t0.00\t3,859.98\n",
      "...\n"
     ]
    }
   ],
   "source": [
    "# Initialize some constants\n",
    "toToken = \"To\"\n",
    "contactToken = \"Contact:\"\n",
    "phoneToken = \"Phone:\"\n",
    "faxToken = \"Fax:\"\n",
    "timeZoneToken = \"Time Zone:\"\n",
    "merchantToken = \"Merchant:\"\n",
    "siteToken = \"Site:\"\n",
    "terminalToken = \"Terminal:\"\n",
    "dateToken = \"Date\"\n",
    "\n",
    "def getRawMerchantRecords(lines):\n",
    "    \"\"\" Parses a list of strings into another list of strings where each\n",
    "    inner list are lines related to individual merchants.\n",
    "    \n",
    "    lines - list of strings containing information on a set of merchants\n",
    "            for a given month\n",
    "    \n",
    "    Precondition: It's assumed that each merchant record starts with a line:\n",
    "    To: <merchant name>\n",
    "    and ends with 3 consecutive blank lines.\n",
    "    \n",
    "    \"\"\"\n",
    "    raw_records = []\n",
    "    record = []\n",
    "    build_record = False\n",
    "    blank_lines = 0\n",
    "    print(\"getRawMerchantRecords: number of lines = \", len(lines))\n",
    "    for i in range(len(lines)):\n",
    "        line = lines[i].strip()  # Remove leading white space\n",
    "        if line.startswith(toToken):\n",
    "            build_record = True\n",
    "            record = [line, ]    # Add first line of new record\n",
    "        elif len(line.strip()) < 1:      # At a blank line?\n",
    "            blank_lines += 1\n",
    "            # Last line of current record?\n",
    "            if blank_lines >= 3:\n",
    "                if build_record:\n",
    "                    raw_records.append(record[:])\n",
    "                    build_record = False\n",
    "                    blank_lines = 0\n",
    "        elif build_record:\n",
    "            record.append(line)\n",
    "            blank_lines = 0\n",
    "            \n",
    "    return raw_records\n",
    "\n",
    "raw_merchants = getRawMerchantRecords(report_as_lines)\n",
    "# Test to see that we have data for a single merchant in each element.\n",
    "print(\"\\n\".join(raw_merchants[0]))\n",
    "print(\"--------------------------------------------------------------------\")\n",
    "print(\"\\n\".join(raw_merchants[1]))\n",
    "print(\"...\")"
   ]
  },
  {
   "cell_type": "markdown",
   "metadata": {},
   "source": [
    "Looks good, but this is still tough to work with.  It would be great to parse this into some kind of object and persist those objects in a database so that they can be easily retrieved later.  When I did a lot of Java, we call this a \"bean\".  In this case, this is little more than a clean way to encapsulate a monthly merchant report data chunk."
   ]
  },
  {
   "cell_type": "code",
   "execution_count": 56,
   "metadata": {
    "collapsed": true
   },
   "outputs": [],
   "source": [
    "class OsMerchantReportRecord:\n",
    "    def __init__(self, os_report_dict, os_merchant_dict):\n",
    "        ## info extracted from file name\n",
    "        self._isoNum = os_report_dict['isoNum']\n",
    "        self._reportYear = os_report_dict['reportYear']\n",
    "        self._reportMonth = os_report_dict['reportMonth']\n",
    "        ## info extracted from reports\n",
    "        self._busName = os_merchant_dict['busName']\n",
    "        self._corpName = os_merchant_dict['corpName']\n",
    "        self._contact = os_merchant_dict['contact']\n",
    "        self._phone = os_merchant_dict['phone']\n",
    "        self._address = os_merchant_dict['address']\n",
    "        self._city = os_merchant_dict['city']\n",
    "        self._province = os_merchant_dict['province']\n",
    "        self._postalCode = os_merchant_dict['postalCode']\n",
    "        self._timeZone = os_merchant_dict['timeZone']\n",
    "        self._merchantId = os_merchant_dict['merchantId']\n",
    "        self._siteId = os_merchant_dict['siteId']\n",
    "        self._terminalId = os_merchant_dict['terminalId']\n",
    "        \n",
    "    #### All we need are getters because all instance variables\n",
    "    #### should never change after instantiation.\n",
    "    def getIsoNum(self):\n",
    "        return self._isoNum\n",
    "        \n",
    "    def getMonth(self):\n",
    "        return self._reportMonth\n",
    "        \n",
    "    def getYear(self):\n",
    "        return self._reportYear\n",
    "        \n",
    "    def getBusName(self):\n",
    "        return self._busName\n",
    "        \n",
    "    def getCorpName(self):\n",
    "        return self._corpName\n",
    "        \n",
    "    def getContact(self):\n",
    "        return self._contact\n",
    "        \n",
    "    def getPhone(self):\n",
    "        return self._phone\n",
    "    \n",
    "    def getAddress(self):\n",
    "        return self._address\n",
    "        \n",
    "    def getCity(self):\n",
    "        return self._city\n",
    "        \n",
    "    def getProvince(self):\n",
    "        return self._province\n",
    "        \n",
    "    def getPostalCode(self):\n",
    "        return self._postalCode\n",
    "        \n",
    "    def getTimeZone(self):\n",
    "        return self._timeZone\n",
    "        \n",
    "    def getMerchantId(self):\n",
    "        return self._merchantId\n",
    "        \n",
    "    def getSiteId(self):\n",
    "        return self._siteId\n",
    "        \n",
    "    def getTerminalId(self):\n",
    "        return self._terminalId\n",
    "    \n",
    "    def asTuple(self):\n",
    "        osm_tuple = (self._busName, self._corpName, self._contact,\n",
    "                     self._phone, self._address, self._city,\n",
    "                     self._province, self._postalCode, self._timeZone,\n",
    "                     self._merchantId, self._siteId, self._terminalId,\n",
    "                     self._isoNum, self._reportYear, self._reportMonth)\n",
    "                       \n",
    "        return osm_tuple\n",
    "    \n",
    "    def toString(self):\n",
    "        osm_fields = []\n",
    "        for item in self.asTuple():\n",
    "            osm_fields.append(str(item))\n",
    "        \n",
    "        return \",\".join(osm_fields)"
   ]
  },
  {
   "cell_type": "code",
   "execution_count": null,
   "metadata": {
    "collapsed": true
   },
   "outputs": [],
   "source": []
  },
  {
   "cell_type": "code",
   "execution_count": null,
   "metadata": {
    "collapsed": true
   },
   "outputs": [],
   "source": []
  },
  {
   "cell_type": "code",
   "execution_count": null,
   "metadata": {
    "collapsed": true
   },
   "outputs": [],
   "source": []
  },
  {
   "cell_type": "code",
   "execution_count": null,
   "metadata": {
    "collapsed": true
   },
   "outputs": [],
   "source": []
  },
  {
   "cell_type": "code",
   "execution_count": null,
   "metadata": {
    "collapsed": true
   },
   "outputs": [],
   "source": []
  },
  {
   "cell_type": "code",
   "execution_count": null,
   "metadata": {
    "collapsed": true
   },
   "outputs": [],
   "source": []
  },
  {
   "cell_type": "code",
   "execution_count": 18,
   "metadata": {
    "collapsed": true
   },
   "outputs": [],
   "source": [
    "data = pd.read_csv(\"../data/OsMerchantTerminalDropsAdds.csv\")\n",
    "d1 = data.loc[1:29]  # pre-trouble\n",
    "d2 = data.loc[30:35] # stopped making payments\n",
    "d3 = data.loc[36:]   # legal action"
   ]
  },
  {
   "cell_type": "code",
   "execution_count": 19,
   "metadata": {
    "collapsed": false
   },
   "outputs": [
    {
     "data": {
      "text/plain": [
       "(100, 900)"
      ]
     },
     "execution_count": 19,
     "metadata": {},
     "output_type": "execute_result"
    },
    {
     "data": {
      "image/png": "[encoded data removed]",
      "text/plain": [
       "<matplotlib.figure.Figure at 0xb3e7080>"
      ]
     },
     "metadata": {},
     "output_type": "display_data"
    }
   ],
   "source": [
    "import pandas as pd, numpy as np\n",
    "import matplotlib.pyplot as plt\n",
    "from matplotlib.ticker import ScalarFormatter\n",
    "%matplotlib inline\n",
    "width=12; height=6\n",
    "plt.figure(figsize=(width, height))\n",
    "# http://stackoverflow.com/questions/12608788/\n",
    "ax = plt.gca()\n",
    "x_formatter = mp.ticker.ScalarFormatter(useOffset=False)\n",
    "ax.xaxis.set_major_formatter(x_formatter)\n",
    "plt.xticks(np.arange(2004, 2008.5, 1.0))\n",
    "\n",
    "data = pd.read_csv(\"../data/OsMerchantTerminalDropsAdds.csv\")\n",
    "d1 = data.loc[1:29]\n",
    "d2 = data.loc[30:35]\n",
    "d3 = data.loc[36:]\n",
    "plt.plot(d1['yearFrac'], d1['merchantCount'], 'bo')\n",
    "plt.plot(d2['yearFrac'], d2['merchantCount'], 'k^')\n",
    "plt.plot(d3['yearFrac'], d3['merchantCount'], 'rs')\n",
    "plt.xlim([2004,2008.5])\n",
    "plt.ylim([100, 900])"
   ]
  },
  {
   "cell_type": "code",
   "execution_count": null,
   "metadata": {
    "collapsed": true
   },
   "outputs": [],
   "source": []
  },
  {
   "cell_type": "code",
   "execution_count": null,
   "metadata": {
    "collapsed": true
   },
   "outputs": [],
   "source": []
  },
  {
   "cell_type": "code",
   "execution_count": null,
   "metadata": {
    "collapsed": true
   },
   "outputs": [],
   "source": []
  },
  {
   "cell_type": "code",
   "execution_count": null,
   "metadata": {
    "collapsed": true
   },
   "outputs": [],
   "source": []
  },
  {
   "cell_type": "code",
   "execution_count": null,
   "metadata": {
    "collapsed": true
   },
   "outputs": [],
   "source": []
  },
  {
   "cell_type": "code",
   "execution_count": null,
   "metadata": {
    "collapsed": true
   },
   "outputs": [],
   "source": []
  },
  {
   "cell_type": "code",
   "execution_count": null,
   "metadata": {
    "collapsed": true
   },
   "outputs": [],
   "source": []
  },
  {
   "cell_type": "code",
   "execution_count": 20,
   "metadata": {
    "collapsed": false
   },
   "outputs": [
    {
     "data": {
      "text/plain": [
       "(0, 0.2)"
      ]
     },
     "execution_count": 20,
     "metadata": {},
     "output_type": "execute_result"
    },
    {
     "data": {
      "image/png": "[encoded data removed]",
      "text/plain": [
       "<matplotlib.figure.Figure at 0xb8ec828>"
      ]
     },
     "metadata": {},
     "output_type": "display_data"
    }
   ],
   "source": [
    "width=12; height=6\n",
    "plt.figure(figsize=(width, height))\n",
    "plt.xticks(np.arange(2004, 2008.5, 1.0))\n",
    "ax = plt.gca()\n",
    "x_formatter = mp.ticker.ScalarFormatter(useOffset=False)\n",
    "ax.xaxis.set_major_formatter(x_formatter)\n",
    "\n",
    "plt.plot(d1['yearFrac'], d1['merchant_drop_rate'], 'bo')\n",
    "plt.plot(d2['yearFrac'], d2['merchant_drop_rate'], 'k^')\n",
    "plt.plot(d3['yearFrac'], d3['merchant_drop_rate'], 'rs')\n",
    "plt.xlim([2004,2008.5])\n",
    "plt.ylim([0, 0.2])"
   ]
  },
  {
   "cell_type": "markdown",
   "metadata": {},
   "source": []
  },
  {
   "cell_type": "markdown",
   "metadata": {
    "collapsed": true
   },
   "source": [
    "As has been derived in countless textbooks, the linear least squares equation for $\\wv$ can be written in matrix form as\n",
    "\n",
    "$\\Xv^T \\Xv \\wv = \\Xv^T \\Tv$\n",
    "\n",
    "There are several ways to solve for $\\wv$, but I'll use the *lstsq* function because it does not assume linearly independent matrix columns. \n",
    "\n",
    "    w = np.linalg.lstsq(np.dot(X.T,X), np.dot(X.T, T))"
   ]
  },
  {
   "cell_type": "code",
   "execution_count": 21,
   "metadata": {
    "collapsed": false
   },
   "outputs": [
    {
     "data": {
      "text/plain": [
       "140782795.90220001"
      ]
     },
     "execution_count": 21,
     "metadata": {},
     "output_type": "execute_result"
    }
   ],
   "source": [
    "# h(orizontal )stack(ing): like cbind in r...\n",
    "X1 = np.hstack((np.ones((d1['yearFrac'].shape[0],1)), X))\n",
    "xtx = np.dot(X1.T, d1['yearFrac'])\n",
    "xtx\n",
    "#w1 = np.linalg.lstsq(np.dot(d1['yearFrac'].T, d1['yearFrac']),\n",
    "#                     np.dot(d1['yearFrac'].T, d1['merchant_drop_rate']))\n",
    "#w1"
   ]
  },
  {
   "cell_type": "code",
   "execution_count": null,
   "metadata": {
    "collapsed": false
   },
   "outputs": [],
   "source": []
  },
  {
   "cell_type": "code",
   "execution_count": null,
   "metadata": {
    "collapsed": true
   },
   "outputs": [],
   "source": []
  },
  {
   "cell_type": "code",
   "execution_count": null,
   "metadata": {
    "collapsed": true
   },
   "outputs": [],
   "source": []
  },
  {
   "cell_type": "code",
   "execution_count": null,
   "metadata": {
    "collapsed": true
   },
   "outputs": [],
   "source": []
  },
  {
   "cell_type": "code",
   "execution_count": null,
   "metadata": {
    "collapsed": true
   },
   "outputs": [],
   "source": []
  },
  {
   "cell_type": "code",
   "execution_count": null,
   "metadata": {
    "collapsed": false
   },
   "outputs": [],
   "source": []
  },
  {
   "cell_type": "code",
   "execution_count": null,
   "metadata": {
    "collapsed": true
   },
   "outputs": [],
   "source": []
  },
  {
   "cell_type": "code",
   "execution_count": null,
   "metadata": {
    "collapsed": true
   },
   "outputs": [],
   "source": []
  },
  {
   "cell_type": "markdown",
   "metadata": {},
   "source": []
  }
 ],
 "metadata": {
  "kernelspec": {
   "display_name": "Python 3",
   "language": "python",
   "name": "python3"
  },
  "language_info": {
   "codemirror_mode": {
    "name": "ipython",
    "version": 3
   },
   "file_extension": ".py",
   "mimetype": "text/x-python",
   "name": "python",
   "nbconvert_exporter": "python",
   "pygments_lexer": "ipython3",
   "version": "3.5.1"
  }
 },
 "nbformat": 4,
 "nbformat_minor": 0
}
